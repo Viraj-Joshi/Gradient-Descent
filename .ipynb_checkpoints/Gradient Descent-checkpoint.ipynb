{
 "cells": [
  {
   "cell_type": "markdown",
   "metadata": {},
   "source": [
    "# Gradient Descent\n",
    "\n",
    "Gradient Descent is an algorithm that minimizes some objective $J(\\theta)$ where $\\theta$ is $\\in \\mathbb{R}^d$ by iteratively updating the vector $\\theta$ by moving in the direction of steepest descent multiplied by some step size or learning rate.\n",
    "\n",
    "In essence, \n",
    "\n",
    "$\\>\\>\\>\\>$1: Pick an initial guess $\\theta_0$    \n",
    "$\\>\\>\\>\\>$2: $\\>\\>$while $J(\\theta_{k+1}) - J(\\theta_{k}) \\leq precision$:    \n",
    "$\\>\\>\\>\\>$3: $\\>\\>\\>\\>\\>\\>\\>\\>$ $\\theta_{k+1}$ = $\\theta_{k} -\\nabla J_\\theta(\\theta_k)$ * $\\alpha_k$.\n",
    "\n",
    "This is relevant to Machine Learning because it offers a numerical solution to estimates of parameters that do not have a closed form solution."
   ]
  },
  {
   "cell_type": "markdown",
   "metadata": {},
   "source": [
    "## Estimating Multinomial Logistic Regression Parameters with Gradient Descent \n",
    "\n",
    "#### Cost Function\n",
    "However, one needs to determine the objective $J(\\theta)$ before executing this algorithm. In the case of linear regression, the sum of squared residuals could be used. In this case, one can use the idea of MLE to minimize the log liklihood.\n",
    "\n",
    "In the case where $K = 2$, the likelihood function was $\\prod_{i=1}^{n} p(\\textbf x_i)^{y_i} (1-p(\\textbf x_i))^{1-y_i}$ "
   ]
  },
  {
   "cell_type": "markdown",
   "metadata": {},
   "source": [
    "In the case where $K > 2$,\n",
    "\n",
    "For $k \\in K$ where $K$ is the set of labeled classes and $p$ is the number of features      \n",
    "Let $p_k(\\textbf x)$ be the posterior probability $P(Y = k | X = \\bf x)$ and the model be defined as \n",
    "\n",
    "$p_k(\\textbf x) = \\frac{e^{\\beta_{0}^k + \\textbf w_k\\cdot \\textbf x}}{\\sum_{k=1}^{K} e^{\\beta_{0}^k + \\textbf w_k\\cdot \\textbf x}}$ for $k=1...K$\n",
    "\n",
    "One can see how each class $1 \\leq k \\leq K$ has its own set of parameters $w_k = (\\beta_1,...,\\beta_p)$\n",
    "\n",
    "We want the optimal set of parameters(weights): argmax $L(\\beta$ $|$ $ \\textbf x)$\n",
    "\n",
    "$$\\prod_{k=1}^{K}P(Y = k | X = \\textbf x_i)^{k_i} = \\prod_{k=1}^{K} p_k(\\textbf x_i)^{k_i}$$\n",
    "\n",
    "Minimizing the negative log-liklihood is the same as maximizing the log-liklihood and can be taken as an average over an entire sample\n",
    "\n",
    "$$J(\\textbf w) = \\frac{-1}{n}log\\prod_{i=1}^{N}\\prod_{k=1}^{K} p_k(\\textbf x_i)^{k_i} = \\frac{-1}{n}\\sum_{i=1}^{N}\\sum_{k=1}^{K} {k_i} * log(\\hat{y}_{ki})$$\n",
    "\n",
    "where $k_i$ is 1 if $\\textbf x_i$ is labeled as class k\n",
    "\n",
    "Finally, we introduce the L2 norm to obtain a regularized objective function.\n",
    "\n",
    "$$J(\\textbf w) = \\frac{-1}{n}log\\prod_{i=1}^{N}\\prod_{k=1}^{K} p_k(\\textbf x_i)^{k_i} = \\frac{-1}{n}\\sum_{i=1}^{N}\\sum_{k=1}^{K} {k_i} * log(\\hat{y}_{ki}) + \\alpha R(\\textbf w)$$\n",
    "\n",
    "where $R(\\textbf w) = ||\\beta||^2_2 = \\sum^{k}_{i=1}\\beta_i^2$ and $p_k(\\textbf x_i)^{k_i} = \\hat{y}_{ki}$\n",
    "#### Gradient of Cost Function\n",
    "\n",
    "TODO"
   ]
  },
  {
   "cell_type": "code",
   "execution_count": 24,
   "metadata": {},
   "outputs": [],
   "source": [
    "import numpy as np\n",
    "from time import time\n",
    "import seaborn as sns\n",
    "import matplotlib.pyplot as plt\n",
    "import matplotlib as mpl"
   ]
  },
  {
   "cell_type": "code",
   "execution_count": 34,
   "metadata": {},
   "outputs": [],
   "source": [
    "class BatchGradientDescent:\n",
    "    def __init__(self):\n",
    "        self.rate = .1\n",
    "        self.precision = .0001\n",
    "        self.reg = .1\n",
    "    \n",
    "    # Pre: X - design matrix\n",
    "    #      y - labeled classes\n",
    "    #      w - pxk parameter matrix of current model\n",
    "    # Post: a vector of K errors,one for each label\n",
    "    def determineCost(self, X, y, w,mini_batch = False):\n",
    "        yhat = self.softmax(np.dot(X,w))\n",
    "        # sum K sets of squared beta_i\n",
    "        R_w = self.reg * np.sum(w * w, axis = 0)\n",
    "        # * operator will ensure a valid summation over all samples because the labels have been one-hot encoded\n",
    "        J = -np.sum((y * np.log(yhat)),axis = 0)+R_w\n",
    "        return J/X.shape[0]\n",
    "    \n",
    "    # Pre: X - design matrix\n",
    "    #      y - labeled classes\n",
    "    #      w - pxk parameter matrix of current model\n",
    "    # Post: the gradient of J evaluated at w\n",
    "    def gradient(self, X, y, w,mini_batch):\n",
    "        if(mini_batch == True):\n",
    "            ind = np.random.choice(X.shape[0], 16384, replace=False)\n",
    "            X_sample = X[ind, :]\n",
    "            y_sample = y[ind,:]\n",
    "            yhat = self.softmax(np.dot(X_sample,w))\n",
    "            gradient = np.dot(X_sample.transpose(),(yhat-y_sample))+self.reg * w\n",
    "            return gradient/X_sample.shape[0]\n",
    "        yhat = self.softmax(np.dot(X,w))\n",
    "        gradient = np.dot(X.transpose(),(yhat-y))+self.reg * w\n",
    "        return gradient/X.shape[0]\n",
    "    \n",
    "    # Pre: z - x dot w of dimension (n*p)multiply(p*k=10)=>n*10\n",
    "    # Post: Softmax score for each observation\n",
    "    def softmax(self,z):\n",
    "        return np.exp(z-np.max(z)) / np.sum(np.exp(z-np.max(z)), axis=1, keepdims=True)\n",
    "    \n",
    "    def error(self,X, y, w):\n",
    "        yhat = self.softmax(np.dot(X,w))\n",
    "        return np.sum(np.argmax(yhat,axis=1)!=np.argmax(y,axis=1))/float(X.shape[0]) \n",
    "    \n",
    "    # Pre: X - design matrix\n",
    "    #      y - labeled classes\n",
    "    #      w - pxk parameter matrix of current model\n",
    "    # Post: return optimal set of weights w, J(theta) over training set,accuracy over training set\n",
    "    def gradientDescent(self,X,y,w,mini_batch):\n",
    "        rate = self.rate\n",
    "        iteration = 0\n",
    "        J = []\n",
    "        accuracy = []\n",
    "        J.append(np.sum(np.array([0]*10)))\n",
    "        J.append(np.sum(self.determineCost(X,y,w)))\n",
    "        while(np.abs(J[-1]-J[-2]) > self.precision):\n",
    "            if((len(J)-1)%10==0):\n",
    "                accuracy.append(1-self.error(X,y,w))\n",
    "            w = w - rate * self.gradient(X,y,w,mini_batch)\n",
    "            J.append(np.sum(self.determineCost(X,y,w)))\n",
    "            iteration = iteration + 1\n",
    "            rate = rate * 1/(1 + .0001 * iteration)\n",
    "        return w,J,accuracy"
   ]
  },
  {
   "cell_type": "code",
   "execution_count": 54,
   "metadata": {},
   "outputs": [],
   "source": [
    "from sklearn.preprocessing import OneHotEncoder\n",
    "class LogisticRegression:\n",
    "    def __init__(self):\n",
    "        self.GD = BatchGradientDescent()\n",
    "        self.w = None\n",
    "    # Pre - data matrix X\n",
    "    # Post - data matrix X with bias term concatenated as first column \n",
    "    def addBias(self,X):\n",
    "        X = np.concatenate((np.ones((X.shape[0],1)),X),axis=1)\n",
    "        return X\n",
    "    \n",
    "    def normalize(self,X):                                                     \n",
    "        X = (X - np.min(X))/float(np.max(X) - np.min(X))\n",
    "        return X\n",
    "    \n",
    "    def oneHotEncode(self,y):\n",
    "        enc = OneHotEncoder(handle_unknown='ignore')\n",
    "        enc.fit(y)\n",
    "        return np.array(enc.transform(y).toarray())\n",
    "    \n",
    "    def train(self,trainX,trainy,mini_batch = False):\n",
    "        trainX = self.normalize(trainX)\n",
    "        trainX = self.addBias(trainX)\n",
    "        trainy = self.oneHotEncode(trainy)\n",
    "        \n",
    "        p,k = trainX.shape[1],trainy.shape[1]\n",
    "        w = np.random.rand(p,k)\n",
    "        print(\"Training Started\")\n",
    "        start_time = time()\n",
    "        w,J,accuracy = self.GD.gradientDescent(trainX,trainy,w, mini_batch)\n",
    "        self.w = w\n",
    "        end_time = time()\n",
    "        print(\"Training Finished, Took: %ss\"%((end_time-start_time)))\n",
    "        return w,J,accuracy\n",
    "    \n",
    "    def test(self,testX,testy):\n",
    "        testX = self.normalize(testX)\n",
    "        testX = self.addBias(testX)\n",
    "        testy = self.oneHotEncode(testy)\n",
    "        return 1 - self.GD.error(testX,testy,self.w)"
   ]
  },
  {
   "cell_type": "code",
   "execution_count": 44,
   "metadata": {},
   "outputs": [
    {
     "name": "stdout",
     "output_type": "stream",
     "text": [
      "Train: X=(60000, 784), y=(60000, 1)\n",
      "Test: X=(10000, 784), y=(10000, 1)\n"
     ]
    }
   ],
   "source": [
    "# loading the mnist dataset\n",
    "from keras.datasets import mnist\n",
    "from matplotlib import pyplot\n",
    "# load dataset\n",
    "(trainX, trainy), (testX, testy) = mnist.load_data()\n",
    "\n",
    "trainX = trainX.reshape((trainX.shape[0],trainX.shape[1]*trainX.shape[1]))\n",
    "trainy = trainy.reshape((trainX.shape[0],1))\n",
    "\n",
    "testX = testX.reshape((testX.shape[0],testX.shape[1]*testX.shape[1]))\n",
    "testy = testy.reshape((testX.shape[0],1))\n",
    "\n",
    "# summarize loaded and reshaped dataset\n",
    "print('Train: X=%s, y=%s' % (trainX.shape, trainy.shape))\n",
    "print('Test: X=%s, y=%s' % (testX.shape, testy.shape))"
   ]
  },
  {
   "cell_type": "code",
   "execution_count": 56,
   "metadata": {},
   "outputs": [
    {
     "name": "stdout",
     "output_type": "stream",
     "text": [
      "Training Started\n",
      "Training Finished, Took: 32.77276539802551s\n",
      "Model Accuracy on Training Set 0.7449333333333333\n"
     ]
    }
   ],
   "source": [
    "logreg = LogisticRegression()\n",
    "w,J,accuracy = logreg.train(trainX,trainy,True)\n",
    "print(\"Model Accuracy on Training Set\",accuracy[len(accuracy)-1])"
   ]
  },
  {
   "cell_type": "code",
   "execution_count": 59,
   "metadata": {},
   "outputs": [
    {
     "name": "stdout",
     "output_type": "stream",
     "text": [
      "Model Accuracy on Test Set: 0.7459\n"
     ]
    }
   ],
   "source": [
    "print(\"Model Accuracy on Test Set:\",logreg.test(testX,testy))"
   ]
  },
  {
   "cell_type": "code",
   "execution_count": 61,
   "metadata": {},
   "outputs": [
    {
     "data": {
      "text/plain": [
       "Text(0.5, 0, 'Iterations')"
      ]
     },
     "execution_count": 61,
     "metadata": {},
     "output_type": "execute_result"
    },
    {
     "data": {
      "image/png": "[encoded data removed]",
      "text/plain": [
       "<Figure size 936x360 with 1 Axes>"
      ]
     },
     "metadata": {},
     "output_type": "display_data"
    },
    {
     "data": {
      "image/png": "[encoded data removed]",
      "text/plain": [
       "<Figure size 936x360 with 1 Axes>"
      ]
     },
     "metadata": {},
     "output_type": "display_data"
    }
   ],
   "source": [
    "fig = plt.figure()\n",
    "fig.set_figheight(5)\n",
    "fig.set_figwidth(13)\n",
    "mpl.style.use('seaborn')\n",
    "plt.plot(accuracy)\n",
    "plt.title('Logistic Regression Training Set Accuracy',fontsize=20)\n",
    "plt.xlabel(\"Iteration\")\n",
    "\n",
    "fig = plt.figure()\n",
    "fig.set_figheight(5)\n",
    "fig.set_figwidth(13)\n",
    "mpl.style.use('seaborn')\n",
    "plt.plot(J[1:])\n",
    "plt.title('Logistic Regression Training Loss',fontsize=20)\n",
    "plt.xlabel(\"Iterations\")"
   ]
  }
 ],
 "metadata": {
  "kernelspec": {
   "display_name": "Python 3",
   "language": "python",
   "name": "python3"
  },
  "language_info": {
   "codemirror_mode": {
    "name": "ipython",
    "version": 3
   },
   "file_extension": ".py",
   "mimetype": "text/x-python",
   "name": "python",
   "nbconvert_exporter": "python",
   "pygments_lexer": "ipython3",
   "version": "3.7.4"
  }
 },
 "nbformat": 4,
 "nbformat_minor": 4
}
